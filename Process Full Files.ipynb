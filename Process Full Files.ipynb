{
 "cells": [
  {
   "cell_type": "code",
   "execution_count": 2,
   "id": "d9d4bb24-94f8-43ec-bcb7-3a81544c61c2",
   "metadata": {},
   "outputs": [],
   "source": [
    "import os\n",
    "import shutil\n",
    "import pandas as pd\n",
    "import numpy as np"
   ]
  },
  {
   "cell_type": "markdown",
   "id": "2b1b060b-e5e5-4a0a-ad1d-618ff298b907",
   "metadata": {},
   "source": [
    "This reads the full transcription for a video file. The full transcription is the raw transcription produced by the transcription pipeline, and can be used toreproduce filtered transcriptions like the single and dyad files."
   ]
  },
  {
   "cell_type": "markdown",
   "id": "22349fee-7f9e-4f7c-9135-68b0b832bec4",
   "metadata": {},
   "source": [
    "By default, the script will autamatically treat files that start with VtV as single speaker files, while treating VGC and FTF files as dual speaker files. Setting method == 0 forces the script to treat the file as a dual speaker file."
   ]
  },
  {
   "cell_type": "code",
   "execution_count": 34,
   "id": "848747aa-ea3c-456c-a763-9dc8c65f789e",
   "metadata": {},
   "outputs": [],
   "source": [
    "directory = \"Transcripts/Study 2 (Fall2023)/VTV/\"\n",
    "file_name = \"VTV39AB (CamSwitch)\"\n",
    "ext = \"_full.txt\"\n",
    "method = 0 # Choose the method for filtering the full transcription file\n",
    "df = pd.read_csv(directory + \"full/\"+ file_name + ext, sep=\"|\")"
   ]
  },
  {
   "cell_type": "code",
   "execution_count": 35,
   "id": "0b10f4d3-c0bc-4a58-84bd-e2db61d60eea",
   "metadata": {},
   "outputs": [],
   "source": [
    "index_RA = df.index.get_loc(df['match_count'].idxmax())\n",
    "\n",
    "# This section cuts off the beginning part of the transcription from the line with matches \"8 minute conversation\" the best.\n",
    "if df.iloc[index_RA][\"Start Time\"] / df.iloc[len(df) - 1][\"Start Time\"] < 0.5 and df['match_count'].max() > 1:\n",
    "    filtered_df = df.iloc[index_RA + 1:][[\"Start Time\", \"End Time\", \"Speaker\", \"Transcription\"]]\n",
    "else:\n",
    "    filtered_df = df[[\"Start Time\", \"End Time\", \"Speaker\", \"Transcription\"]]\n",
    "\n",
    "# We take only the 2 speakers that speak the most\n",
    "value_counts = filtered_df['Speaker'].value_counts()\n",
    "top_2_speakers = value_counts.nlargest(2).index.tolist()\n",
    "if len(top_2_speakers) > 1:\n",
    "    replace_map = {\n",
    "    top_2_speakers[0]: \"Speaker 1\",\n",
    "    top_2_speakers[1]: \"Speaker 2\",\n",
    "    }\n",
    "else:\n",
    "    replace_map = {top_2_speakers[0]: \"Speaker 1\"}\n",
    "    \n",
    "filtered_df['Speaker'] = filtered_df['Speaker'].replace(replace_map)\n",
    "\n",
    "# Now we split the transcription based on whether the file is a single speaker or dual speaker file\n",
    "if method == 0 or (method is None and (not file_name.startswith('VtV') and not file_name.startswith('VTV'))):\n",
    "    # Dyad case\n",
    "    filtered_df = filtered_df[(filtered_df[\"Speaker\"] == \"Speaker 1\") | (filtered_df[\"Speaker\"] == \"Speaker 2\")]\n",
    "    filtered_df.to_csv(directory + \"/dyad/\"  + file_name + '_dyad.txt', sep=\"|\", index=False)\n",
    "    filtered_df[filtered_df[\"Speaker\"] == \"Speaker 1\"].to_csv(directory + \"/single/\" + file_name + '_single_X.txt', sep=\"|\", index=False)\n",
    "    filtered_df[filtered_df[\"Speaker\"] == \"Speaker 2\"].to_csv(directory + \"/single/\" + file_name + '_single_Y.txt', sep=\"|\", index=False)\n",
    "else:\n",
    "    # Single speaker case\n",
    "    filtered_df = filtered_df[filtered_df[\"Speaker\"] == \"Speaker 1\"]\n",
    "    filtered_df.to_csv(directory + \"/single/\" + file_name + '_single.txt', sep=\"|\", index=False)"
   ]
  },
  {
   "cell_type": "code",
   "execution_count": null,
   "id": "3edfcacc-33f1-4b40-ad0c-885d4e9b93b6",
   "metadata": {},
   "outputs": [],
   "source": []
  }
 ],
 "metadata": {
  "kernelspec": {
   "display_name": "Python 3 (ipykernel)",
   "language": "python",
   "name": "python3"
  },
  "language_info": {
   "codemirror_mode": {
    "name": "ipython",
    "version": 3
   },
   "file_extension": ".py",
   "mimetype": "text/x-python",
   "name": "python",
   "nbconvert_exporter": "python",
   "pygments_lexer": "ipython3",
   "version": "3.10.16"
  }
 },
 "nbformat": 4,
 "nbformat_minor": 5
}
